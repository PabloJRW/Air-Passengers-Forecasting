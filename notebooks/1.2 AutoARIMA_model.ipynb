{
 "cells": [
  {
   "cell_type": "code",
   "execution_count": null,
   "id": "69258a44-4edf-4369-945a-275e17afd66f",
   "metadata": {},
   "outputs": [],
   "source": [
    "# Auto ARIMA Model\n",
    "auto_model = pm.auto_arima(air.AirPassengers, start_p=1, start_q=1,\n",
    "                      test='adf',       # use adftest to find optimal 'd'\n",
    "                      max_p=5, max_q=5, # maximum p and q\n",
    "                      m=12,              # frequency of series\n",
    "                      d=None,           # let model determine 'd'\n",
    "                      seasonal=False,   # No Seasonality\n",
    "                      start_P=0, \n",
    "                      D=0, \n",
    "                      trace=True,\n",
    "                      error_action='ignore',  \n",
    "                      suppress_warnings=True, \n",
    "                      stepwise=True)\n",
    "\n",
    "print(auto_model.summary())"
   ]
  },
  {
   "cell_type": "markdown",
   "id": "7de624c4-a240-4ea7-b62d-8035587dc81a",
   "metadata": {},
   "source": [
    "### Model Diagnostic"
   ]
  },
  {
   "cell_type": "code",
   "execution_count": null,
   "id": "ab7ebcb0-28b9-4e89-aab2-5086b1863e73",
   "metadata": {},
   "outputs": [],
   "source": [
    "# Diagnostics plots\n",
    "auto_model.plot_diagnostics(figsize=(15,9))\n",
    "plt.show()"
   ]
  },
  {
   "cell_type": "markdown",
   "id": "7f7ba4d4-2ab3-415d-a51b-b0ece3f565d2",
   "metadata": {},
   "source": [
    "## Forecast"
   ]
  },
  {
   "cell_type": "code",
   "execution_count": null,
   "id": "b9024ea4-7c6c-4c73-aa54-405b0b1e8969",
   "metadata": {},
   "outputs": [],
   "source": [
    "# Auto ARIMA Forecast\n",
    "n_periods = 12  # In months\n",
    "auto_fc, auto_confint = auto_model.predict(n_periods=n_periods, return_conf_int=True)\n",
    "index_of_fc = pd.date_range(air.AirPassengers.index[-1], periods = n_periods, freq='MS')\n",
    "\n",
    "# make series for plotting purpose\n",
    "auto_fc_series = pd.Series(auto_fc, index=index_of_fc)\n",
    "lower_series = pd.Series(auto_confint[:, 0], index=index_of_fc)\n",
    "upper_series = pd.Series(auto_confint[:, 1], index=index_of_fc)\n",
    "\n",
    "# Plot\n",
    "plt.figure(figsize=(18,6))\n",
    "plt.plot(air.AirPassengers)\n",
    "plt.plot(auto_fc_series, color='darkgreen')\n",
    "plt.fill_between(lower_series.index, \n",
    "                 lower_series, \n",
    "                 upper_series, \n",
    "                 color='k', alpha=.15)\n",
    "\n",
    "plt.title(\"Auto ARIMA: Final Forecast of Air Passengers\")\n",
    "plt.show()"
   ]
  },
  {
   "cell_type": "markdown",
   "id": "d37778ba-96aa-4d08-9a04-f4a90a86d3c2",
   "metadata": {},
   "source": [
    "### Model Performance"
   ]
  },
  {
   "cell_type": "code",
   "execution_count": null,
   "id": "4747b003-ae4d-4185-8964-eff0805c6be8",
   "metadata": {},
   "outputs": [],
   "source": [
    "# Auto ARIMA Performance Metrics\n",
    "auto_arima_performance = forecast_accuracy(test.values, auto_fc)\n",
    "print(\"Auto ARIMA Performance:\")\n",
    "print(\"=\"*36)\n",
    "for k, v in auto_arima_performance.items():\n",
    "    print(k +\" : \"+ str(v))"
   ]
  }
 ],
 "metadata": {
  "kernelspec": {
   "display_name": "Python 3 (ipykernel)",
   "language": "python",
   "name": "python3"
  },
  "language_info": {
   "codemirror_mode": {
    "name": "ipython",
    "version": 3
   },
   "file_extension": ".py",
   "mimetype": "text/x-python",
   "name": "python",
   "nbconvert_exporter": "python",
   "pygments_lexer": "ipython3",
   "version": "3.8.8"
  }
 },
 "nbformat": 4,
 "nbformat_minor": 5
}
