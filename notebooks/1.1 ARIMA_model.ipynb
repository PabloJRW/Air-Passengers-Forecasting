{
 "cells": [
  {
   "cell_type": "code",
   "execution_count": null,
   "id": "87ddebf2-c3fd-42e1-a2f0-948ff998ec8b",
   "metadata": {},
   "outputs": [],
   "source": [
    "# ARIMA Model\n",
    "model = ARIMA(air.AirPassengers, order=(1,1,2))\n",
    "model_fit = model.fit(disp=0)\n",
    "print(model_fit.summary())"
   ]
  },
  {
   "cell_type": "markdown",
   "id": "aecb4cee-f67c-454c-a34c-aa74dc4a4b10",
   "metadata": {},
   "source": [
    "### 2.1.5 ARIMA Model Diagnostic"
   ]
  },
  {
   "cell_type": "code",
   "execution_count": null,
   "id": "c2be1101-533c-4896-a17c-6685948e0cf7",
   "metadata": {},
   "outputs": [],
   "source": [
    "# Plot residual errors\n",
    "residuals = pd.DataFrame(model_fit.resid)\n",
    "fig, ax = plt.subplots(1,2, figsize=(18,3))\n",
    "residuals.plot(title=\"Residuals\", ax=ax[0])\n",
    "residuals.plot(kind='kde', title='Density', ax=ax[1])\n",
    "plt.show()"
   ]
  },
  {
   "cell_type": "code",
   "execution_count": null,
   "id": "70c87008-d0ac-4b60-8b9d-ae56df1cd000",
   "metadata": {},
   "outputs": [],
   "source": [
    "# Actual vs Fitted\n",
    "fig, ax = plt.subplots(figsize=(18,6))\n",
    "model_fit.plot_predict(dynamic=False, ax=ax)\n",
    "plt.legend([\"Forecast\",\"Actual\"])\n",
    "plt.show()"
   ]
  },
  {
   "cell_type": "code",
   "execution_count": null,
   "id": "d92372e3-a75b-4669-8af7-57d9842f9ce1",
   "metadata": {},
   "outputs": [],
   "source": [
    "# Build ARIMA Model  \n",
    "model = ARIMA(train, order=(1, 1, 2))  \n",
    "fitted = model.fit(disp=-1)  \n",
    "\n",
    "# ARIMA Forecast\n",
    "fc, se, conf = fitted.forecast(12, alpha=0.05)  # 95% conf\n",
    "\n",
    "# Make as pandas series\n",
    "fc_series = pd.Series(fc, index=test.index)\n",
    "lower_series = pd.Series(conf[:, 0], index=test.index)\n",
    "upper_series = pd.Series(conf[:, 1], index=test.index)\n",
    "\n",
    "# Plot\n",
    "plt.figure(figsize=(18,6), dpi=100)\n",
    "plt.plot(train, label='Training')\n",
    "plt.plot(test, label='Actual')\n",
    "plt.plot(fc_series, label='Forecast')\n",
    "plt.fill_between(lower_series.index, lower_series, upper_series, \n",
    "                 color='k', alpha=.15)\n",
    "plt.title('ARIMA Forecast vs Actuals')\n",
    "plt.legend(loc='upper left', fontsize=8)\n",
    "plt.show()"
   ]
  },
  {
   "cell_type": "markdown",
   "id": "047ce1b1-37a2-4462-b252-7ef17852520c",
   "metadata": {},
   "source": [
    "### 2.1.6 ARIMA Performance Metrics"
   ]
  },
  {
   "cell_type": "code",
   "execution_count": null,
   "id": "1a880507-0587-4bb3-83ca-85d5d3686390",
   "metadata": {},
   "outputs": [],
   "source": [
    "# Accuracy metrics\n",
    "def forecast_accuracy(forecast, actual):\n",
    "    mae = np.mean(np.abs(forecast - actual))  # MAE\n",
    "    mse = np.mean(np.square(forecast - actual))  # MSE\n",
    "    mape = np.mean(np.abs(forecast - actual)/np.abs(actual))  # MAPE\n",
    "    rmse = np.sqrt(np.mean(np.square(forecast - actual)))  # RMSE\n",
    "    \n",
    "    return({'mae':mae, 'mse':mse, 'mape':mape, 'rmse':rmse})\n"
   ]
  },
  {
   "cell_type": "code",
   "execution_count": null,
   "id": "7b2d46e9-09c6-4a29-9c3f-59167bbb7a0e",
   "metadata": {},
   "outputs": [],
   "source": [
    "# ARIMA Model Performance Metrics\n",
    "arima_performance = forecast_accuracy(test.values, fc)\n",
    "print(\"ARIMA Performance:\")\n",
    "print(\"=\"*24)\n",
    "for k, v in arima_performance.items():\n",
    "    print(k +\" : \"+ str(v))"
   ]
  }
 ],
 "metadata": {
  "kernelspec": {
   "display_name": "Python 3 (ipykernel)",
   "language": "python",
   "name": "python3"
  },
  "language_info": {
   "codemirror_mode": {
    "name": "ipython",
    "version": 3
   },
   "file_extension": ".py",
   "mimetype": "text/x-python",
   "name": "python",
   "nbconvert_exporter": "python",
   "pygments_lexer": "ipython3",
   "version": "3.8.8"
  }
 },
 "nbformat": 4,
 "nbformat_minor": 5
}
