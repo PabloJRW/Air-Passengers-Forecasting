{
 "cells": [
  {
   "cell_type": "code",
   "execution_count": null,
   "id": "a2a9cbe8-f017-4a8c-903f-b5f51304b3d5",
   "metadata": {},
   "outputs": [],
   "source": [
    "# Seasonal ARIMA Model\n",
    "# ===================================================================\n",
    "smodel = pm.auto_arima(train, start_p=1, start_q=1,\n",
    "                         test='adf',\n",
    "                         max_p=3, max_q=3, m=12,\n",
    "                         start_P=0, seasonal=True,\n",
    "                         d=None, D=1, trace=True,\n",
    "                         error_action='ignore',  \n",
    "                         suppress_warnings=True, \n",
    "                         stepwise=True)\n",
    "\n",
    "print(smodel.summary())"
   ]
  },
  {
   "cell_type": "code",
   "execution_count": null,
   "id": "7210c58b-61d7-46a4-ac89-96239f2bca25",
   "metadata": {},
   "outputs": [],
   "source": [
    "# Seasonal ARIMA Model Diagnostic\n",
    "smodel.plot_diagnostics(figsize=(15,9))\n",
    "plt.show()"
   ]
  },
  {
   "cell_type": "code",
   "execution_count": null,
   "id": "da4ad0eb-4ded-4b91-b20b-233876d1dd53",
   "metadata": {},
   "outputs": [],
   "source": [
    "# Seasonal ARIMA Forecast\n",
    "n_periods = 12\n",
    "smodel_forecast, smodel_confint = smodel.predict(n_periods=n_periods, return_conf_int=True)\n",
    "index_of_fc = pd.date_range(train.index[-1], periods=n_periods, freq='MS')\n",
    "\n",
    "# make series for plotting purpose\n",
    "forecast_series = pd.Series(smodel_forecast, index=index_of_fc)\n",
    "lower_series = pd.Series(smodel_confint[:, 0], index=index_of_fc)\n",
    "upper_series = pd.Series(smodel_confint[:, 1], index=index_of_fc)\n",
    "\n",
    "# Plot\n",
    "fig, ax = plt.subplots(figsize=(24,9))\n",
    "ax.plot(train, color=\"b\")\n",
    "ax.plot(test, color=\"r\")\n",
    "ax.plot(forecast_series, color='darkgreen')\n",
    "ax.fill_between(lower_series.index, \n",
    "                 lower_series, \n",
    "                 upper_series, \n",
    "                 color='k', alpha=.15)\n",
    "ax.legend([\"Train\",\"Test\",\"Forecast\"])\n",
    "\n",
    "plt.title(\"SARIMA: Final Forecast of Air Passengers\")\n",
    "#plt.savefig(\"sarima_forecast.jpg\")\n",
    "plt.show()"
   ]
  },
  {
   "cell_type": "code",
   "execution_count": null,
   "id": "671ebbbb-e791-4962-bfa4-f60f1e36f3b3",
   "metadata": {},
   "outputs": [],
   "source": [
    "# Seasonal ARIMA Performance Metrics\n",
    "sarima_performance = forecast_accuracy(test.values, smodel_forecast)\n",
    "print(\"Seasonal ARIMA Performance:\")\n",
    "print(\"=\"*24)\n",
    "for k, v in sarima_performance.items():\n",
    "    print(k +\" : \"+ str(v))"
   ]
  },
  {
   "cell_type": "markdown",
   "id": "1450616b-0235-4859-b5a4-ece79456cab0",
   "metadata": {},
   "source": [
    "### Final Forecast"
   ]
  },
  {
   "cell_type": "code",
   "execution_count": null,
   "id": "99b77251-62b9-4373-8725-bbfdc6c6b4e2",
   "metadata": {},
   "outputs": [],
   "source": [
    "# Seasonal ARIMA Model\n",
    "# ===================================================================\n",
    "smodel = pm.auto_arima(air.AirPassengers, start_p=1, start_q=1,\n",
    "                         test='adf',\n",
    "                         max_p=3, max_q=3, m=12,\n",
    "                         start_P=0, seasonal=True,\n",
    "                         d=None, D=1, trace=True,\n",
    "                         error_action='ignore',  \n",
    "                         suppress_warnings=True, \n",
    "                         stepwise=True)\n",
    "\n",
    "print(smodel.summary())"
   ]
  },
  {
   "cell_type": "code",
   "execution_count": null,
   "id": "1475cd80-bea6-4ddc-a92d-527a62c301ee",
   "metadata": {},
   "outputs": [],
   "source": [
    "# Final Seasonal ARIMA Model Diagnostic\n",
    "smodel.plot_diagnostics(figsize=(15,9))\n",
    "plt.show()"
   ]
  },
  {
   "cell_type": "code",
   "execution_count": null,
   "id": "175fc71e-6425-420c-a678-c52fa4c9eea2",
   "metadata": {},
   "outputs": [],
   "source": [
    "# Seasonal ARIMA Forecast\n",
    "n_periods = 12\n",
    "final_smodel_forecast, final_smodel_confint = smodel.predict(n_periods=n_periods, return_conf_int=True)\n",
    "index_of_fc = pd.date_range(air.AirPassengers.index[-1], periods=n_periods, freq='MS')\n",
    "\n",
    "# make series for plotting purpose\n",
    "final_forecast_series = pd.Series(final_smodel_forecast, index=index_of_fc)\n",
    "lower_series = pd.Series(final_smodel_confint[:, 0], index=index_of_fc)\n",
    "upper_series = pd.Series(final_smodel_confint[:, 1], index=index_of_fc)\n",
    "\n",
    "# Plot\n",
    "fig, ax = plt.subplots(figsize=(24,9))\n",
    "ax.plot(air.AirPassengers, color=\"b\")\n",
    "ax.plot(final_forecast_series, color='darkgreen')\n",
    "ax.fill_between(lower_series.index, \n",
    "                 lower_series, \n",
    "                 upper_series, \n",
    "                 color='k', alpha=.15)\n",
    "ax.legend([\"Actual\",\"Forecast\"])\n",
    "\n",
    "plt.title(\"SARIMA: Final Forecast of Air Passengers\")\n",
    "#plt.savefig(\"final_sarima_forecast.jpg\")\n",
    "plt.show()"
   ]
  },
  {
   "cell_type": "code",
   "execution_count": null,
   "id": "7a0ae6ce-2955-4673-b828-1b7fe0ae1f68",
   "metadata": {},
   "outputs": [],
   "source": [
    "# Metric Performance\n",
    "# ===========================================================\n",
    "\n",
    "MAPE(final_smodel_forecast, test.values).round(3)"
   ]
  },
  {
   "cell_type": "code",
   "execution_count": null,
   "id": "7fd30abe-1e92-4a05-aae0-ccb46df5a015",
   "metadata": {},
   "outputs": [],
   "source": [
    "final_forecast_series"
   ]
  }
 ],
 "metadata": {
  "kernelspec": {
   "display_name": "Python 3 (ipykernel)",
   "language": "python",
   "name": "python3"
  },
  "language_info": {
   "codemirror_mode": {
    "name": "ipython",
    "version": 3
   },
   "file_extension": ".py",
   "mimetype": "text/x-python",
   "name": "python",
   "nbconvert_exporter": "python",
   "pygments_lexer": "ipython3",
   "version": "3.8.8"
  }
 },
 "nbformat": 4,
 "nbformat_minor": 5
}
